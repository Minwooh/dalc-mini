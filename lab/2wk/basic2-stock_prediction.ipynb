{
 "cells": [
  {
   "cell_type": "markdown",
   "id": "e53d08ce",
   "metadata": {},
   "source": [
    "# Library"
   ]
  },
  {
   "cell_type": "code",
   "execution_count": 2,
   "id": "1a984cda",
   "metadata": {},
   "outputs": [],
   "source": [
    "import numpy as np\n",
    "import matplotlib.pyplot as plt\n",
    "import seaborn as sns\n",
    "\n",
    "import collections\n",
    "import pandas as pd\n",
    "\n",
    "from sklearn.model_selection import train_test_split\n",
    "\n",
    "from xgboost import XGBClassifier\n",
    "\n",
    "from sklearn.metrics import confusion_matrix, classification_report # 정오분류표\n",
    "from sklearn.metrics import accuracy_score, precision_score, recall_score, f1_score, roc_auc_score \n",
    "from sklearn.metrics import roc_curve, auc, roc_auc_score,classification_report,confusion_matrix  # ROC곡선 그리기\n",
    "from sklearn.preprocessing import LabelEncoder,MinMaxScaler\n",
    "from sklearn.model_selection import learning_curve, validation_curve # 학습곡선, 검증곡선\n",
    "from sklearn.model_selection import GridSearchCV, cross_val_score  # 하이퍼파라미터 튜닝, 교차타당도"
   ]
  },
  {
   "cell_type": "code",
   "execution_count": 3,
   "id": "c8eb799e",
   "metadata": {},
   "outputs": [],
   "source": [
    "%matplotlib inline\n",
    "import os\n",
    "\n",
    "from xgboost import plot_tree\n",
    "\n",
    "import matplotlib.pyplot as plt\n",
    "\n",
    "from matplotlib.pylab import rcParams"
   ]
  },
  {
   "cell_type": "markdown",
   "id": "83424372",
   "metadata": {},
   "source": [
    "# Data Load"
   ]
  },
  {
   "cell_type": "code",
   "execution_count": 19,
   "id": "5fadad50",
   "metadata": {},
   "outputs": [],
   "source": [
    "데이터 불러오기"
   ]
  },
  {
   "cell_type": "code",
   "execution_count": 21,
   "id": "f18506c2",
   "metadata": {},
   "outputs": [
    {
     "data": {
      "text/html": [
       "<div>\n",
       "<style scoped>\n",
       "    .dataframe tbody tr th:only-of-type {\n",
       "        vertical-align: middle;\n",
       "    }\n",
       "\n",
       "    .dataframe tbody tr th {\n",
       "        vertical-align: top;\n",
       "    }\n",
       "\n",
       "    .dataframe thead th {\n",
       "        text-align: right;\n",
       "    }\n",
       "</style>\n",
       "<table border=\"1\" class=\"dataframe\">\n",
       "  <thead>\n",
       "    <tr style=\"text-align: right;\">\n",
       "      <th></th>\n",
       "      <th>Open</th>\n",
       "      <th>High</th>\n",
       "      <th>Low</th>\n",
       "      <th>Close</th>\n",
       "      <th>Adj Close</th>\n",
       "      <th>Volume</th>\n",
       "      <th>S&amp;P500</th>\n",
       "      <th>SOX</th>\n",
       "      <th>VIX</th>\n",
       "      <th>KOSPI</th>\n",
       "      <th>...</th>\n",
       "      <th>RASD10</th>\n",
       "      <th>MACD</th>\n",
       "      <th>CCI60</th>\n",
       "      <th>ATR14</th>\n",
       "      <th>MTM3</th>\n",
       "      <th>ROC60</th>\n",
       "      <th>ROC90</th>\n",
       "      <th>WPR14</th>\n",
       "      <th>ADXR14</th>\n",
       "      <th>ADX14</th>\n",
       "    </tr>\n",
       "    <tr>\n",
       "      <th>Date</th>\n",
       "      <th></th>\n",
       "      <th></th>\n",
       "      <th></th>\n",
       "      <th></th>\n",
       "      <th></th>\n",
       "      <th></th>\n",
       "      <th></th>\n",
       "      <th></th>\n",
       "      <th></th>\n",
       "      <th></th>\n",
       "      <th></th>\n",
       "      <th></th>\n",
       "      <th></th>\n",
       "      <th></th>\n",
       "      <th></th>\n",
       "      <th></th>\n",
       "      <th></th>\n",
       "      <th></th>\n",
       "      <th></th>\n",
       "      <th></th>\n",
       "      <th></th>\n",
       "    </tr>\n",
       "  </thead>\n",
       "  <tbody>\n",
       "    <tr>\n",
       "      <th>2006-06-29</th>\n",
       "      <td>38000.0</td>\n",
       "      <td>40500.0</td>\n",
       "      <td>37500.0</td>\n",
       "      <td>39200.0</td>\n",
       "      <td>36039.308594</td>\n",
       "      <td>1195650</td>\n",
       "      <td>1272.869995</td>\n",
       "      <td>446.170013</td>\n",
       "      <td>13.03</td>\n",
       "      <td>1263.020020</td>\n",
       "      <td>...</td>\n",
       "      <td>NaN</td>\n",
       "      <td>NaN</td>\n",
       "      <td>NaN</td>\n",
       "      <td>NaN</td>\n",
       "      <td>NaN</td>\n",
       "      <td>NaN</td>\n",
       "      <td>NaN</td>\n",
       "      <td>NaN</td>\n",
       "      <td>NaN</td>\n",
       "      <td>NaN</td>\n",
       "    </tr>\n",
       "    <tr>\n",
       "      <th>2006-06-30</th>\n",
       "      <td>39600.0</td>\n",
       "      <td>40950.0</td>\n",
       "      <td>39000.0</td>\n",
       "      <td>40900.0</td>\n",
       "      <td>37602.242188</td>\n",
       "      <td>472510</td>\n",
       "      <td>1270.199951</td>\n",
       "      <td>441.720001</td>\n",
       "      <td>13.08</td>\n",
       "      <td>1295.150024</td>\n",
       "      <td>...</td>\n",
       "      <td>NaN</td>\n",
       "      <td>NaN</td>\n",
       "      <td>NaN</td>\n",
       "      <td>NaN</td>\n",
       "      <td>NaN</td>\n",
       "      <td>NaN</td>\n",
       "      <td>NaN</td>\n",
       "      <td>NaN</td>\n",
       "      <td>NaN</td>\n",
       "      <td>NaN</td>\n",
       "    </tr>\n",
       "    <tr>\n",
       "      <th>2006-07-03</th>\n",
       "      <td>41300.0</td>\n",
       "      <td>41700.0</td>\n",
       "      <td>39900.0</td>\n",
       "      <td>41400.0</td>\n",
       "      <td>38061.925781</td>\n",
       "      <td>207420</td>\n",
       "      <td>1280.189941</td>\n",
       "      <td>446.010010</td>\n",
       "      <td>13.05</td>\n",
       "      <td>1294.609985</td>\n",
       "      <td>...</td>\n",
       "      <td>NaN</td>\n",
       "      <td>NaN</td>\n",
       "      <td>NaN</td>\n",
       "      <td>NaN</td>\n",
       "      <td>NaN</td>\n",
       "      <td>NaN</td>\n",
       "      <td>NaN</td>\n",
       "      <td>NaN</td>\n",
       "      <td>NaN</td>\n",
       "      <td>NaN</td>\n",
       "    </tr>\n",
       "    <tr>\n",
       "      <th>2006-07-04</th>\n",
       "      <td>41550.0</td>\n",
       "      <td>44300.0</td>\n",
       "      <td>41550.0</td>\n",
       "      <td>44000.0</td>\n",
       "      <td>40452.292969</td>\n",
       "      <td>277000</td>\n",
       "      <td>NaN</td>\n",
       "      <td>NaN</td>\n",
       "      <td>NaN</td>\n",
       "      <td>1285.920044</td>\n",
       "      <td>...</td>\n",
       "      <td>NaN</td>\n",
       "      <td>NaN</td>\n",
       "      <td>NaN</td>\n",
       "      <td>NaN</td>\n",
       "      <td>4800.0</td>\n",
       "      <td>NaN</td>\n",
       "      <td>NaN</td>\n",
       "      <td>NaN</td>\n",
       "      <td>NaN</td>\n",
       "      <td>NaN</td>\n",
       "    </tr>\n",
       "    <tr>\n",
       "      <th>2006-07-05</th>\n",
       "      <td>42700.0</td>\n",
       "      <td>44000.0</td>\n",
       "      <td>42700.0</td>\n",
       "      <td>44000.0</td>\n",
       "      <td>40452.292969</td>\n",
       "      <td>137000</td>\n",
       "      <td>1270.910034</td>\n",
       "      <td>431.899994</td>\n",
       "      <td>14.15</td>\n",
       "      <td>1279.849976</td>\n",
       "      <td>...</td>\n",
       "      <td>NaN</td>\n",
       "      <td>NaN</td>\n",
       "      <td>NaN</td>\n",
       "      <td>NaN</td>\n",
       "      <td>3100.0</td>\n",
       "      <td>NaN</td>\n",
       "      <td>NaN</td>\n",
       "      <td>NaN</td>\n",
       "      <td>NaN</td>\n",
       "      <td>NaN</td>\n",
       "    </tr>\n",
       "  </tbody>\n",
       "</table>\n",
       "<p>5 rows × 28 columns</p>\n",
       "</div>"
      ],
      "text/plain": [
       "               Open     High      Low    Close     Adj Close   Volume  \\\n",
       "Date                                                                    \n",
       "2006-06-29  38000.0  40500.0  37500.0  39200.0  36039.308594  1195650   \n",
       "2006-06-30  39600.0  40950.0  39000.0  40900.0  37602.242188   472510   \n",
       "2006-07-03  41300.0  41700.0  39900.0  41400.0  38061.925781   207420   \n",
       "2006-07-04  41550.0  44300.0  41550.0  44000.0  40452.292969   277000   \n",
       "2006-07-05  42700.0  44000.0  42700.0  44000.0  40452.292969   137000   \n",
       "\n",
       "                 S&P500         SOX    VIX        KOSPI  ...  RASD10  MACD  \\\n",
       "Date                                                     ...                 \n",
       "2006-06-29  1272.869995  446.170013  13.03  1263.020020  ...     NaN   NaN   \n",
       "2006-06-30  1270.199951  441.720001  13.08  1295.150024  ...     NaN   NaN   \n",
       "2006-07-03  1280.189941  446.010010  13.05  1294.609985  ...     NaN   NaN   \n",
       "2006-07-04          NaN         NaN    NaN  1285.920044  ...     NaN   NaN   \n",
       "2006-07-05  1270.910034  431.899994  14.15  1279.849976  ...     NaN   NaN   \n",
       "\n",
       "            CCI60  ATR14    MTM3  ROC60  ROC90  WPR14  ADXR14  ADX14  \n",
       "Date                                                                  \n",
       "2006-06-29    NaN    NaN     NaN    NaN    NaN    NaN     NaN    NaN  \n",
       "2006-06-30    NaN    NaN     NaN    NaN    NaN    NaN     NaN    NaN  \n",
       "2006-07-03    NaN    NaN     NaN    NaN    NaN    NaN     NaN    NaN  \n",
       "2006-07-04    NaN    NaN  4800.0    NaN    NaN    NaN     NaN    NaN  \n",
       "2006-07-05    NaN    NaN  3100.0    NaN    NaN    NaN     NaN    NaN  \n",
       "\n",
       "[5 rows x 28 columns]"
      ]
     },
     "execution_count": 21,
     "metadata": {},
     "output_type": "execute_result"
    }
   ],
   "source": [
    "# 앞에서 부터 5줄 보기"
   ]
  },
  {
   "cell_type": "code",
   "execution_count": null,
   "id": "b9310860",
   "metadata": {},
   "outputs": [],
   "source": [
    "# 뒤에서 부터 다섯줄 보기"
   ]
  },
  {
   "cell_type": "code",
   "execution_count": null,
   "id": "97127f88",
   "metadata": {},
   "outputs": [],
   "source": [
    "# 기초 통계량"
   ]
  },
  {
   "cell_type": "code",
   "execution_count": null,
   "id": "b908df85",
   "metadata": {},
   "outputs": [],
   "source": [
    "# 정보보기"
   ]
  },
  {
   "cell_type": "code",
   "execution_count": 23,
   "id": "43db61de",
   "metadata": {},
   "outputs": [
    {
     "data": {
      "text/plain": [
       "(3861, 28)"
      ]
     },
     "execution_count": 23,
     "metadata": {},
     "output_type": "execute_result"
    }
   ],
   "source": [
    "origin_df.shape # 열,행 "
   ]
  },
  {
   "cell_type": "markdown",
   "id": "4ed388e9",
   "metadata": {},
   "source": [
    "# Preprocessing"
   ]
  },
  {
   "cell_type": "markdown",
   "id": "4fc77d2a",
   "metadata": {},
   "source": [
    "# 주가 전망을 어떻게 표현할까?"
   ]
  },
  {
   "cell_type": "markdown",
   "id": "833a7a16",
   "metadata": {},
   "source": [
    "* 오늘의 종가와 내일의 종가의 차이를 값으로 갖는 열 만들기"
   ]
  },
  {
   "cell_type": "code",
   "execution_count": 75,
   "id": "b8bfcedf",
   "metadata": {},
   "outputs": [],
   "source": [
    "문제"
   ]
  },
  {
   "cell_type": "code",
   "execution_count": 76,
   "id": "aada8ec5",
   "metadata": {},
   "outputs": [
    {
     "data": {
      "text/html": [
       "<div>\n",
       "<style scoped>\n",
       "    .dataframe tbody tr th:only-of-type {\n",
       "        vertical-align: middle;\n",
       "    }\n",
       "\n",
       "    .dataframe tbody tr th {\n",
       "        vertical-align: top;\n",
       "    }\n",
       "\n",
       "    .dataframe thead th {\n",
       "        text-align: right;\n",
       "    }\n",
       "</style>\n",
       "<table border=\"1\" class=\"dataframe\">\n",
       "  <thead>\n",
       "    <tr style=\"text-align: right;\">\n",
       "      <th></th>\n",
       "      <th>Close</th>\n",
       "      <th>shift</th>\n",
       "      <th>target</th>\n",
       "    </tr>\n",
       "    <tr>\n",
       "      <th>Date</th>\n",
       "      <th></th>\n",
       "      <th></th>\n",
       "      <th></th>\n",
       "    </tr>\n",
       "  </thead>\n",
       "  <tbody>\n",
       "    <tr>\n",
       "      <th>2006-06-29</th>\n",
       "      <td>39200.0</td>\n",
       "      <td>43000.0</td>\n",
       "      <td>1</td>\n",
       "    </tr>\n",
       "    <tr>\n",
       "      <th>2006-06-30</th>\n",
       "      <td>40900.0</td>\n",
       "      <td>43050.0</td>\n",
       "      <td>1</td>\n",
       "    </tr>\n",
       "    <tr>\n",
       "      <th>2006-07-03</th>\n",
       "      <td>41400.0</td>\n",
       "      <td>40500.0</td>\n",
       "      <td>0</td>\n",
       "    </tr>\n",
       "    <tr>\n",
       "      <th>2006-07-04</th>\n",
       "      <td>44000.0</td>\n",
       "      <td>40500.0</td>\n",
       "      <td>0</td>\n",
       "    </tr>\n",
       "    <tr>\n",
       "      <th>2006-07-05</th>\n",
       "      <td>44000.0</td>\n",
       "      <td>40800.0</td>\n",
       "      <td>0</td>\n",
       "    </tr>\n",
       "  </tbody>\n",
       "</table>\n",
       "</div>"
      ],
      "text/plain": [
       "              Close    shift  target\n",
       "Date                                \n",
       "2006-06-29  39200.0  43000.0       1\n",
       "2006-06-30  40900.0  43050.0       1\n",
       "2006-07-03  41400.0  40500.0       0\n",
       "2006-07-04  44000.0  40500.0       0\n",
       "2006-07-05  44000.0  40800.0       0"
      ]
     },
     "execution_count": 76,
     "metadata": {},
     "output_type": "execute_result"
    }
   ],
   "source": [
    "origin_df[['Close','shift','target']].head()"
   ]
  },
  {
   "cell_type": "code",
   "execution_count": 41,
   "id": "1a8718e0",
   "metadata": {},
   "outputs": [
    {
     "data": {
      "text/html": [
       "<div>\n",
       "<style scoped>\n",
       "    .dataframe tbody tr th:only-of-type {\n",
       "        vertical-align: middle;\n",
       "    }\n",
       "\n",
       "    .dataframe tbody tr th {\n",
       "        vertical-align: top;\n",
       "    }\n",
       "\n",
       "    .dataframe thead th {\n",
       "        text-align: right;\n",
       "    }\n",
       "</style>\n",
       "<table border=\"1\" class=\"dataframe\">\n",
       "  <thead>\n",
       "    <tr style=\"text-align: right;\">\n",
       "      <th></th>\n",
       "      <th>Close</th>\n",
       "      <th>shift</th>\n",
       "      <th>target</th>\n",
       "    </tr>\n",
       "    <tr>\n",
       "      <th>Date</th>\n",
       "      <th></th>\n",
       "      <th></th>\n",
       "      <th></th>\n",
       "    </tr>\n",
       "  </thead>\n",
       "  <tbody>\n",
       "    <tr>\n",
       "      <th>2022-01-24</th>\n",
       "      <td>154500.0</td>\n",
       "      <td>NaN</td>\n",
       "      <td>0</td>\n",
       "    </tr>\n",
       "    <tr>\n",
       "      <th>2022-01-25</th>\n",
       "      <td>150500.0</td>\n",
       "      <td>NaN</td>\n",
       "      <td>0</td>\n",
       "    </tr>\n",
       "    <tr>\n",
       "      <th>2022-01-26</th>\n",
       "      <td>150500.0</td>\n",
       "      <td>NaN</td>\n",
       "      <td>0</td>\n",
       "    </tr>\n",
       "    <tr>\n",
       "      <th>2022-01-27</th>\n",
       "      <td>149500.0</td>\n",
       "      <td>NaN</td>\n",
       "      <td>0</td>\n",
       "    </tr>\n",
       "    <tr>\n",
       "      <th>2022-01-28</th>\n",
       "      <td>155000.0</td>\n",
       "      <td>NaN</td>\n",
       "      <td>0</td>\n",
       "    </tr>\n",
       "  </tbody>\n",
       "</table>\n",
       "</div>"
      ],
      "text/plain": [
       "               Close  shift  target\n",
       "Date                               \n",
       "2022-01-24  154500.0    NaN       0\n",
       "2022-01-25  150500.0    NaN       0\n",
       "2022-01-26  150500.0    NaN       0\n",
       "2022-01-27  149500.0    NaN       0\n",
       "2022-01-28  155000.0    NaN       0"
      ]
     },
     "execution_count": 41,
     "metadata": {},
     "output_type": "execute_result"
    }
   ],
   "source": [
    "origin_df[['Close','shift','target']].tail()"
   ]
  },
  {
   "cell_type": "markdown",
   "id": "0fd737db",
   "metadata": {},
   "source": [
    "* 해당일의 종가를 제외하고 다음날부터 n일동안의 평균을 구해서 열 만들기"
   ]
  },
  {
   "cell_type": "code",
   "execution_count": 77,
   "id": "ddca3415",
   "metadata": {},
   "outputs": [],
   "source": [
    "문제"
   ]
  },
  {
   "cell_type": "code",
   "execution_count": 78,
   "id": "b7cf14d1",
   "metadata": {},
   "outputs": [
    {
     "data": {
      "text/html": [
       "<div>\n",
       "<style scoped>\n",
       "    .dataframe tbody tr th:only-of-type {\n",
       "        vertical-align: middle;\n",
       "    }\n",
       "\n",
       "    .dataframe tbody tr th {\n",
       "        vertical-align: top;\n",
       "    }\n",
       "\n",
       "    .dataframe thead th {\n",
       "        text-align: right;\n",
       "    }\n",
       "</style>\n",
       "<table border=\"1\" class=\"dataframe\">\n",
       "  <thead>\n",
       "    <tr style=\"text-align: right;\">\n",
       "      <th></th>\n",
       "      <th>Close</th>\n",
       "      <th>shift</th>\n",
       "      <th>target</th>\n",
       "    </tr>\n",
       "    <tr>\n",
       "      <th>Date</th>\n",
       "      <th></th>\n",
       "      <th></th>\n",
       "      <th></th>\n",
       "    </tr>\n",
       "  </thead>\n",
       "  <tbody>\n",
       "    <tr>\n",
       "      <th>2006-06-29</th>\n",
       "      <td>39200.0</td>\n",
       "      <td>43925.0</td>\n",
       "      <td>1</td>\n",
       "    </tr>\n",
       "    <tr>\n",
       "      <th>2006-06-30</th>\n",
       "      <td>40900.0</td>\n",
       "      <td>44140.0</td>\n",
       "      <td>1</td>\n",
       "    </tr>\n",
       "    <tr>\n",
       "      <th>2006-07-03</th>\n",
       "      <td>41400.0</td>\n",
       "      <td>44050.0</td>\n",
       "      <td>1</td>\n",
       "    </tr>\n",
       "    <tr>\n",
       "      <th>2006-07-04</th>\n",
       "      <td>44000.0</td>\n",
       "      <td>43700.0</td>\n",
       "      <td>0</td>\n",
       "    </tr>\n",
       "    <tr>\n",
       "      <th>2006-07-05</th>\n",
       "      <td>44000.0</td>\n",
       "      <td>43380.0</td>\n",
       "      <td>0</td>\n",
       "    </tr>\n",
       "  </tbody>\n",
       "</table>\n",
       "</div>"
      ],
      "text/plain": [
       "              Close    shift  target\n",
       "Date                                \n",
       "2006-06-29  39200.0  43925.0       1\n",
       "2006-06-30  40900.0  44140.0       1\n",
       "2006-07-03  41400.0  44050.0       1\n",
       "2006-07-04  44000.0  43700.0       0\n",
       "2006-07-05  44000.0  43380.0       0"
      ]
     },
     "execution_count": 78,
     "metadata": {},
     "output_type": "execute_result"
    }
   ],
   "source": [
    "origin_df[['Close','shift','target']].head()"
   ]
  },
  {
   "cell_type": "code",
   "execution_count": 79,
   "id": "df6d7e0b",
   "metadata": {},
   "outputs": [
    {
     "data": {
      "text/plain": [
       "Text(0.5, 1.0, 'positive label ratio')"
      ]
     },
     "execution_count": 79,
     "metadata": {},
     "output_type": "execute_result"
    },
    {
     "data": {
      "image/png": "[encoded data removed]",
      "text/plain": [
       "<Figure size 432x288 with 1 Axes>"
      ]
     },
     "metadata": {
      "needs_background": "light"
     },
     "output_type": "display_data"
    }
   ],
   "source": [
    "# 양성 비율 그림 그리기"
   ]
  },
  {
   "cell_type": "code",
   "execution_count": 87,
   "id": "e4a5d743",
   "metadata": {},
   "outputs": [],
   "source": [
    "df = # 특정 날짜의 데이터"
   ]
  },
  {
   "cell_type": "code",
   "execution_count": 88,
   "id": "894296fb",
   "metadata": {},
   "outputs": [
    {
     "name": "stdout",
     "output_type": "stream",
     "text": [
      "Object `제거하려면` not found.\n",
      "Object `채우려면` not found.\n"
     ]
    }
   ],
   "source": [
    "1.결측치 제거하려면?\n",
    "2.결측치를 이전값으로 채우려면?"
   ]
  },
  {
   "cell_type": "markdown",
   "id": "ba8ebbf8",
   "metadata": {},
   "source": [
    "# trn tst"
   ]
  },
  {
   "cell_type": "code",
   "execution_count": 89,
   "id": "f174d3dd",
   "metadata": {},
   "outputs": [],
   "source": [
    "X = # shift와 target을 제거한 X만들기\n",
    "\n",
    "# Min Max Scaler를 사용해 스케일링\n",
    "scaler = MinMaxScaler()\n",
    "scaler.fit(X)\n",
    "X_scaled = scaler.transform(X)\n",
    "\n",
    "y = #target을 y로 지정하기"
   ]
  },
  {
   "cell_type": "code",
   "execution_count": 90,
   "id": "94919562",
   "metadata": {},
   "outputs": [],
   "source": [
    "# trn, tst 나누기"
   ]
  },
  {
   "cell_type": "code",
   "execution_count": 91,
   "id": "10dbb524",
   "metadata": {},
   "outputs": [
    {
     "name": "stderr",
     "output_type": "stream",
     "text": [
      "/Users/jihyun/opt/anaconda3/lib/python3.8/site-packages/xgboost/sklearn.py:888: UserWarning: The use of label encoder in XGBClassifier is deprecated and will be removed in a future release. To remove this warning, do the following: 1) Pass option use_label_encoder=False when constructing XGBClassifier object; and 2) Encode your labels (y) as integers starting with 0, i.e. 0, 1, 2, ..., [num_class - 1].\n",
      "  warnings.warn(label_encoder_deprecation_msg, UserWarning)\n"
     ]
    },
    {
     "name": "stdout",
     "output_type": "stream",
     "text": [
      "[19:30:38] WARNING: /opt/concourse/worker/volumes/live/7a2b9f41-3287-451b-6691-43e9a6c0910f/volume/xgboost-split_1619728204606/work/src/learner.cc:541: \n",
      "Parameters: { feature_names } might not be used.\n",
      "\n",
      "  This may not be accurate due to some parameters are only used in language bindings but\n",
      "  passed down to XGBoost core.  Or some parameters are not used but slip through this\n",
      "  verification. Please open an issue if you find above cases.\n",
      "\n",
      "\n",
      "[19:30:38] WARNING: /opt/concourse/worker/volumes/live/7a2b9f41-3287-451b-6691-43e9a6c0910f/volume/xgboost-split_1619728204606/work/src/learner.cc:1061: Starting in XGBoost 1.3.0, the default evaluation metric used with the objective 'binary:logistic' was changed from 'error' to 'logloss'. Explicitly set eval_metric if you'd like to restore the old behavior.\n"
     ]
    }
   ],
   "source": [
    "model = XGBClassifier(learning_rate= 0.3, \n",
    "                  max_depth= 6, \n",
    "                  n_estimators= 110,\n",
    "                   booster='gbtree',\n",
    "                    objective='binary:logistic',\n",
    "                  feature_names = X.columns.to_list())\n",
    "\n",
    "# 모델 학습하기\n",
    "# 예측하기 "
   ]
  },
  {
   "cell_type": "code",
   "execution_count": 92,
   "id": "6f7d9ed4",
   "metadata": {},
   "outputs": [
    {
     "name": "stdout",
     "output_type": "stream",
     "text": [
      "86.61\n"
     ]
    }
   ],
   "source": [
    "# 정확도 찍어보기"
   ]
  }
 ],
 "metadata": {
  "kernelspec": {
   "display_name": "Python 3",
   "language": "python",
   "name": "python3"
  },
  "language_info": {
   "codemirror_mode": {
    "name": "ipython",
    "version": 3
   },
   "file_extension": ".py",
   "mimetype": "text/x-python",
   "name": "python",
   "nbconvert_exporter": "python",
   "pygments_lexer": "ipython3",
   "version": "3.8.8"
  }
 },
 "nbformat": 4,
 "nbformat_minor": 5
}
