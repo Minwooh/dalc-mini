{
  "nbformat": 4,
  "nbformat_minor": 0,
  "metadata": {
    "colab": {
      "name": "과제1",
      "private_outputs": true,
      "provenance": [],
      "authorship_tag": "ABX9TyO4kasenp1jVJLmSbYCQ/5R",
      "include_colab_link": true
    },
    "kernelspec": {
      "name": "python3",
      "display_name": "Python 3"
    },
    "language_info": {
      "name": "python"
    }
  },
  "cells": [
    {
      "cell_type": "markdown",
      "metadata": {
        "id": "view-in-github",
        "colab_type": "text"
      },
      "source": [
        "<a href=\"https://colab.research.google.com/github/Minwooh/dalc-mini/blob/master/%EA%B3%BC%EC%A0%9C1.ipynb\" target=\"_parent\"><img src=\"https://colab.research.google.com/assets/colab-badge.svg\" alt=\"Open In Colab\"/></a>"
      ]
    },
    {
      "cell_type": "markdown",
      "source": [
        "# 2.2.1. 데이터 불러오기"
      ],
      "metadata": {
        "id": "fGsU0mgpbtpQ"
      }
    },
    {
      "cell_type": "code",
      "source": [
        "import pandas as pd\n",
        "df = pd.read_csv('https://docs.google.com/spreadsheets/d/e/2PACX-1vRdqzjMkDP38wdY-mjI2yhtuiO093Kuq_8981RymMwhTC4B3occ8mQtR3wwG5LHG1whs7LHm8KH7Eyh/pub?output=csv')"
      ],
      "metadata": {
        "id": "Q12jOtmsb0Zy"
      },
      "execution_count": null,
      "outputs": []
    },
    {
      "cell_type": "code",
      "source": [
        "df.head()"
      ],
      "metadata": {
        "id": "BQMiC0YJcA2n"
      },
      "execution_count": null,
      "outputs": []
    },
    {
      "cell_type": "code",
      "source": [
        "print(type(df.index))\n",
        "print(type(df.index[0]))"
      ],
      "metadata": {
        "id": "EaimVQSHZAx8"
      },
      "execution_count": null,
      "outputs": []
    },
    {
      "cell_type": "code",
      "source": [
        "type(df['Date'][0])"
      ],
      "metadata": {
        "id": "MgRnKyBbZF_Q"
      },
      "execution_count": null,
      "outputs": []
    },
    {
      "cell_type": "code",
      "source": [
        "for col in df.columns:\n",
        "    series = df[col]"
      ],
      "metadata": {
        "id": "GPD33kHqZISj"
      },
      "execution_count": null,
      "outputs": []
    },
    {
      "cell_type": "code",
      "source": [
        "series"
      ],
      "metadata": {
        "id": "P8gM2-m0ZLac"
      },
      "execution_count": null,
      "outputs": []
    },
    {
      "cell_type": "code",
      "source": [
        "aapl_df = pd.read_csv('https://docs.google.com/spreadsheets/d/e/2PACX-1vRdqzjMkDP38wdY-mjI2yhtuiO093Kuq_8981RymMwhTC4B3occ8mQtR3wwG5LHG1whs7LHm8KH7Eyh/pub?output=csv',index_col='Date', parse_dates=['Date'])"
      ],
      "metadata": {
        "id": "QcCMuGTEZO_a"
      },
      "execution_count": null,
      "outputs": []
    },
    {
      "cell_type": "code",
      "source": [
        "aapl_df.head()"
      ],
      "metadata": {
        "id": "lR1kspnRZhH3"
      },
      "execution_count": null,
      "outputs": []
    },
    {
      "cell_type": "code",
      "source": [
        "print(aapl_df.head())\n",
        "print(type(aapl_df.index))\n",
        "print(type(aapl_df.index[0]))"
      ],
      "metadata": {
        "id": "mEhd8ZnqZkIh"
      },
      "execution_count": null,
      "outputs": []
    },
    {
      "cell_type": "code",
      "source": [
        "print(type(aapl_df.index[0]))\n",
        "print(type(aapl_df.index))"
      ],
      "metadata": {
        "id": "f3dtgQBuZmp4"
      },
      "execution_count": null,
      "outputs": []
    },
    {
      "cell_type": "code",
      "source": [
        "import pandas as pd\n",
        "import numpy as np\n",
        "s1 = pd.Series([1,np.nan,3,4,5])\n",
        "s2 = pd.Series([1,2,np.nan,4,5])\n",
        "s3 = pd.Series([1,2,3,np.nan,5])\n",
        "df = pd.DataFrame({'S1':s1,\n",
        "                  'S2':s2,\n",
        "                  'S3':s3\n",
        "                  })\n",
        "df.head()"
      ],
      "metadata": {
        "id": "i7hu85JmZpGO"
      },
      "execution_count": null,
      "outputs": []
    },
    {
      "cell_type": "code",
      "source": [
        "df['S1'].isna()"
      ],
      "metadata": {
        "id": "QnKWCX6nZsQe"
      },
      "execution_count": null,
      "outputs": []
    },
    {
      "cell_type": "code",
      "source": [
        "df.isna()"
      ],
      "metadata": {
        "id": "ZHH5kQ5wZure"
      },
      "execution_count": null,
      "outputs": []
    },
    {
      "cell_type": "code",
      "source": [
        "True == 1"
      ],
      "metadata": {
        "id": "LrQVbcNgZwTS"
      },
      "execution_count": null,
      "outputs": []
    },
    {
      "cell_type": "code",
      "source": [
        "False == 0"
      ],
      "metadata": {
        "id": "dpgO02lHZzS-"
      },
      "execution_count": null,
      "outputs": []
    },
    {
      "cell_type": "code",
      "source": [
        "True == 0"
      ],
      "metadata": {
        "id": "nUumMJjgZ1S2"
      },
      "execution_count": null,
      "outputs": []
    },
    {
      "cell_type": "code",
      "source": [
        "False == 1"
      ],
      "metadata": {
        "id": "PczpDk-rZ2_Y"
      },
      "execution_count": null,
      "outputs": []
    },
    {
      "cell_type": "code",
      "source": [
        "df.isna().sum()"
      ],
      "metadata": {
        "id": "5uohAsUcZ5Sf"
      },
      "execution_count": null,
      "outputs": []
    },
    {
      "cell_type": "code",
      "source": [
        "df.count()"
      ],
      "metadata": {
        "id": "CNcsZjrIZ78d"
      },
      "execution_count": null,
      "outputs": []
    },
    {
      "cell_type": "code",
      "source": [
        "df.isna().count"
      ],
      "metadata": {
        "id": "MSV4FHRXZ-lS"
      },
      "execution_count": null,
      "outputs": []
    },
    {
      "cell_type": "code",
      "source": [
        "df.isin([np.nan])"
      ],
      "metadata": {
        "id": "x418OVuxaAaV"
      },
      "execution_count": null,
      "outputs": []
    },
    {
      "cell_type": "code",
      "source": [
        "df.isin([np.nan]).sum()"
      ],
      "metadata": {
        "id": "U87-yVy8aJL0"
      },
      "execution_count": null,
      "outputs": []
    },
    {
      "cell_type": "code",
      "source": [
        "df.isnull()"
      ],
      "metadata": {
        "id": "9fj75u6qaL46"
      },
      "execution_count": null,
      "outputs": []
    },
    {
      "cell_type": "code",
      "source": [
        "df.isnull().sum()"
      ],
      "metadata": {
        "id": "B-nKlsW3aReV"
      },
      "execution_count": null,
      "outputs": []
    },
    {
      "cell_type": "code",
      "source": [
        "df[df.isna().any(1)]"
      ],
      "metadata": {
        "id": "2tQ2b-w7aS8x"
      },
      "execution_count": null,
      "outputs": []
    },
    {
      "cell_type": "code",
      "source": [
        "df[df.isin([np.nan]).any(1)]"
      ],
      "metadata": {
        "id": "GUqRxSAFiGOR"
      },
      "execution_count": null,
      "outputs": []
    },
    {
      "cell_type": "code",
      "source": [
        "df.fillna(0)"
      ],
      "metadata": {
        "id": "2fwyscbriISu"
      },
      "execution_count": null,
      "outputs": []
    },
    {
      "cell_type": "code",
      "source": [
        "df.fillna(method='pad')"
      ],
      "metadata": {
        "id": "JUKaE_xRiJok"
      },
      "execution_count": null,
      "outputs": []
    },
    {
      "cell_type": "code",
      "source": [
        "df.fillna(method='ffill')"
      ],
      "metadata": {
        "id": "uvh-X4-YiMNZ"
      },
      "execution_count": null,
      "outputs": []
    },
    {
      "cell_type": "code",
      "source": [
        "df.fillna(method='bfill')"
      ],
      "metadata": {
        "id": "ARKkz7TriNzV"
      },
      "execution_count": null,
      "outputs": []
    },
    {
      "cell_type": "code",
      "source": [
        "df.dropna(axis=0)"
      ],
      "metadata": {
        "id": "QXCqqJuxiPmN"
      },
      "execution_count": null,
      "outputs": []
    },
    {
      "cell_type": "code",
      "source": [
        "df.dropna(axis='rows')"
      ],
      "metadata": {
        "id": "43H7ozbQiRJw"
      },
      "execution_count": null,
      "outputs": []
    },
    {
      "cell_type": "code",
      "source": [
        "df.dropna(axis=1)"
      ],
      "metadata": {
        "id": "wm5_zl4SiTNG"
      },
      "execution_count": null,
      "outputs": []
    },
    {
      "cell_type": "code",
      "source": [
        "df.dropna(axis='columns')"
      ],
      "metadata": {
        "id": "R-96s7BLiWI8"
      },
      "execution_count": null,
      "outputs": []
    },
    {
      "cell_type": "code",
      "source": [
        "import pandas as pd\n",
        "aapl_df = pd.read_csv('https://docs.google.com/spreadsheets/d/e/2PACX-1vRdqzjMkDP38wdY-mjI2yhtuiO093Kuq_8981RymMwhTC4B3occ8mQtR3wwG5LHG1whs7LHm8KH7Eyh/pubhtml',index_col='Date', parse_dates=['Date'])\n",
        "# aapl_df.head()\n",
        "aapl_df.isna().sum()"
      ],
      "metadata": {
        "id": "x2ODI9pGiXvk"
      },
      "execution_count": null,
      "outputs": []
    },
    {
      "cell_type": "code",
      "source": [
        "import numpy as np\n",
        "aapl_df[aapl_df.isin([np.nan, np.inf, -np.inf]).any(1)]"
      ],
      "metadata": {
        "id": "HF46ITA3impS"
      },
      "execution_count": null,
      "outputs": []
    },
    {
      "cell_type": "markdown",
      "source": [
        "# 2.2.3 가장 자주 쓰이는 데이터 선택방법"
      ],
      "metadata": {
        "id": "s465ba-aiqy8"
      }
    },
    {
      "cell_type": "code",
      "source": [
        "a = [0,1,2,3,4,5,6,7,8,9,10]\n",
        "a[0:5]"
      ],
      "metadata": {
        "id": "Mql2v6_7ivTA"
      },
      "execution_count": null,
      "outputs": []
    },
    {
      "cell_type": "code",
      "source": [
        "import pandas as pd\n",
        "df = pd.read_csv('https://docs.google.com/spreadsheets/d/e/2PACX-1vRdqzjMkDP38wdY-mjI2yhtuiO093Kuq_8981RymMwhTC4B3occ8mQtR3wwG5LHG1whs7LHm8KH7Eyh/pubhtml',index_col='Date', parse_dates=['Date'])\n",
        "df.head()"
      ],
      "metadata": {
        "id": "xNh8vYbGiz3N"
      },
      "execution_count": null,
      "outputs": []
    },
    {
      "cell_type": "code",
      "source": [
        "print(type(df.index))\n",
        "print(type(df.index[0]))"
      ],
      "metadata": {
        "id": "IKib7XVgi5Zd"
      },
      "execution_count": null,
      "outputs": []
    },
    {
      "cell_type": "code",
      "source": [
        "df['Open'].head()"
      ],
      "metadata": {
        "id": "4eMBqQgei8MD"
      },
      "execution_count": null,
      "outputs": []
    }
  ]
}