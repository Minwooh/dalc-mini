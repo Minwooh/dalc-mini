{
  "nbformat": 4,
  "nbformat_minor": 0,
  "metadata": {
    "colab": {
      "name": "minwoo hw2 실습.ipynb",
      "private_outputs": true,
      "provenance": [],
      "collapsed_sections": [],
      "authorship_tag": "ABX9TyMFsG0ip6SD31TEzZUDa6lQ",
      "include_colab_link": true
    },
    "kernelspec": {
      "name": "python3",
      "display_name": "Python 3"
    },
    "language_info": {
      "name": "python"
    }
  },
  "cells": [
    {
      "cell_type": "markdown",
      "metadata": {
        "id": "view-in-github",
        "colab_type": "text"
      },
      "source": [
        "<a href=\"https://colab.research.google.com/github/Minwooh/dalc-mini/blob/master/minwoo_hw2_%EC%8B%A4%EC%8A%B5.ipynb\" target=\"_parent\"><img src=\"https://colab.research.google.com/assets/colab-badge.svg\" alt=\"Open In Colab\"/></a>"
      ]
    },
    {
      "cell_type": "code",
      "execution_count": null,
      "metadata": {
        "id": "zdOxxGI3QP8f"
      },
      "outputs": [],
      "source": [
        "# TA-Lib 설치 코드\n",
        "url = 'https://anaconda.org/conda-forge/libta-lib/0.4.0/download/linux-64/libta-lib-0.4.0-h516909a_0.tar.bz2'\n",
        "!curl -L $url | tar xj -C /usr/lib/x86_64-linux-gnu/ lib --strip-components=1\n",
        "url = 'https://anaconda.org/conda-forge/ta-lib/0.4.19/download/linux-64/ta-lib-0.4.19-py37ha21ca33_2.tar.bz2'\n",
        "!curl -L $url | tar xj -C /usr/local/lib/python3.7/dist-packages/ lib/python3.7/site-packages/talib --strip-components=3\n",
        "import talib\n",
        "\n",
        "# 야후 파이낸스설치\n",
        "!pip install yfinance\n",
        "import yfinance as yf\n",
        "\n",
        "import pandas as pd\n",
        "import numpy as np"
      ]
    },
    {
      "cell_type": "code",
      "source": [
        "# 하이브 데이터 불러오기\n",
        "hive_df= df = yf.download('352820.KS',start = '2005-01-01') # 우리나라원하는 주식의 종목코드+.KS\n",
        "sox_df = yf.download('^SOX', start = '2000-01-01')\n",
        "vix_df = yf.download('^VIX', start = '2000-01-01')\n",
        "snp500_df = yf.download('^GSPC', start = '2000-01-01')\n",
        "kospi_df= yf.download('^KS11', start = '2000-01-01')\n",
        "\n",
        "kospi_df.to_csv('kospi.csv')\n",
        "hive_df.to_csv('hive.csv')\n",
        "sox_df.to_csv('sox_df.csv')\n",
        "vix_df.to_csv('vix_df.csv')\n",
        "snp500_df.to_csv('s&p500.csv')\n",
        "\n",
        "hive_df = pd.read_csv('hive.csv',index_col='Date', parse_dates=True)\n",
        "sox_df = pd.read_csv('sox_df.csv', index_col = 'Date', parse_dates = True)\n",
        "vix_df = pd.read_csv('vix_df.csv', index_col = 'Date', parse_dates = True)\n",
        "snp500_df = pd.read_csv('s&p500.csv', index_col = 'Date', parse_dates = True)\n",
        "kospi_df = pd.read_csv('kospi.csv', index_col = 'Date', parse_dates = True)"
      ],
      "metadata": {
        "id": "Lk_2S4ipRNDn"
      },
      "execution_count": null,
      "outputs": []
    },
    {
      "cell_type": "code",
      "source": [
        "snp500_df = snp500_df.loc[:,['Close']].copy()\n",
        "snp500_df.rename(columns={'Close':'S&P500'},inplace=True)\n",
        "sox_df = sox_df.loc[:,['Close']].copy()\n",
        "sox_df.rename(columns={'Close':'SOX'},inplace=True)\n",
        "vix_df = vix_df.loc[:,['Close']].copy()\n",
        "vix_df.rename(columns={'Close':'VIX'},inplace=True)\n",
        "\n",
        "\n",
        "df = df.join(snp500_df,how='left')\n",
        "df = df.join(sox_df,how='left')\n",
        "df = df.join(vix_df,how='left')"
      ],
      "metadata": {
        "id": "rgh5aBaTRYIY"
      },
      "execution_count": null,
      "outputs": []
    },
    {
      "cell_type": "code",
      "source": [
        "kospi_df['KOSPI'] = kospi_df['Close'].copy()"
      ],
      "metadata": {
        "id": "wZ9nbG6LRcBd"
      },
      "execution_count": null,
      "outputs": []
    },
    {
      "cell_type": "code",
      "source": [
        "kospi_df['kosATR'] = talib.ATR(kospi_df['High'], kospi_df['Low'], kospi_df['Close'], timeperiod=14)\n",
        "\n",
        "kospi_df['kosADX14'] = talib.ADXR(kospi_df['High'], kospi_df['Low'], kospi_df['Close'], timeperiod=14)\n",
        "\n",
        "\n",
        "kospi_df = kospi_df.drop(['Open','High','Low','Close','Adj Close','Volume'],axis=1)\n",
        "df = df.join(kospi_df, how = 'left')"
      ],
      "metadata": {
        "id": "hi8oUv-yRdax"
      },
      "execution_count": null,
      "outputs": []
    },
    {
      "cell_type": "code",
      "source": [
        "df"
      ],
      "metadata": {
        "id": "I6MOjKlzRhF3"
      },
      "execution_count": null,
      "outputs": []
    },
    {
      "cell_type": "code",
      "source": [
        "# 기술지표 가공\n",
        "df['log_return'] = np.log(1 + df['Adj Close'].pct_change())\n",
        "df['CCI'] = talib.CCI(df['High'], df['Low'], df['Adj Close'], timeperiod=14)\n",
        "\n",
        "\n",
        "#1.RA : Standard deviation rolling average\n",
        "# Moving Average\n",
        "df['MA10'] = talib.SMA(df['Close'],timeperiod=10)\n",
        "df['MA60'] = talib.SMA(df['Close'],timeperiod=60)\n",
        "\n",
        "df['MA60_volumne'] = talib.SMA(df['Volume'], timeperiod = 60)\n",
        "df['RASD5'] = talib.SMA(talib.STDDEV(df['Close'], timeperiod=5, nbdev=1),timeperiod=5)\n",
        "df['RASD10'] = talib.SMA(talib.STDDEV(df['Close'], timeperiod=5, nbdev=1),timeperiod=10)\n",
        "\n",
        "#2.MACD : Moving Average Convergence/Divergence\n",
        "macd, macdsignal, macdhist = talib.MACD(df['Close'], fastperiod=12, slowperiod=26, signalperiod=9)\n",
        "df['MACD'] = macd \n",
        "\n",
        "# Momentum Indicators\n",
        "#3.CCI : Commodity Channel Index\n",
        "\n",
        "df['CCI60'] = talib.CCI(df['High'], df['Low'], df['Close'], timeperiod=60)\n",
        "df['CCI60'] = talib.CCI(df['High'], df['Low'], df['Close'], timeperiod=90)\n",
        "# Volatility Indicators \n",
        "\n",
        "#4.ATR : Average True Range\n",
        "df['ATR14'] = talib.ATR(df['High'], df['Low'], df['Close'], timeperiod=14)\n",
        "\n",
        "#7.MTM\n",
        "df['MTM3'] = talib.MOM(df['Close'], timeperiod=3)\n",
        "\n",
        "#8.ROC : Rate of change : ((price/prevPrice)-1)*100\n",
        "df['ROC60'] = talib.ROC(df['Close'], timeperiod=60)\n",
        "df['ROC90'] = talib.ROC(df['Close'], timeperiod=30)\n",
        "\n",
        "#9.WPR : william percent range (Williams' %R)\n",
        "df['WPR14'] = talib.WILLR(df['High'], df['Low'], df['Close'], timeperiod=14)\n",
        "\n",
        "#10.ADXR\n",
        "df['ADXR14'] = talib.ADXR(df['High'], df['Low'], df['Close'], timeperiod=14)\n",
        "\n",
        "#11.ADX\n",
        "df['ADX14'] = talib.ADX(df['High'], df['Low'], df['Close'], timeperiod=14)"
      ],
      "metadata": {
        "id": "c4V3PF4eRpGO"
      },
      "execution_count": null,
      "outputs": []
    },
    {
      "cell_type": "code",
      "source": [
        "df.head()"
      ],
      "metadata": {
        "id": "R6zVMix2RtKw"
      },
      "execution_count": null,
      "outputs": []
    },
    {
      "cell_type": "code",
      "source": [
        "df.to_csv('352820.csv') #경로 지정"
      ],
      "metadata": {
        "id": "6KDE66G7RyAi"
      },
      "execution_count": null,
      "outputs": []
    },
    {
      "cell_type": "code",
      "source": [
        "df.head()"
      ],
      "metadata": {
        "id": "fMJt-BECR7ba"
      },
      "execution_count": null,
      "outputs": []
    },
    {
      "cell_type": "code",
      "source": [
        "df.info()"
      ],
      "metadata": {
        "id": "x7iVPnBWR-g-"
      },
      "execution_count": null,
      "outputs": []
    }
  ]
}